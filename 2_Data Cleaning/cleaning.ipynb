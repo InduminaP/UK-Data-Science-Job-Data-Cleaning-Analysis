{
 "cells": [
  {
   "cell_type": "code",
   "execution_count": 67,
   "metadata": {},
   "outputs": [],
   "source": [
    "# import libraries\n",
    "import pandas as pd\n",
    "import numpy as np"
   ]
  },
  {
   "cell_type": "code",
   "execution_count": 68,
   "metadata": {},
   "outputs": [],
   "source": [
    "# import dataset \n",
    "df=pd.read_csv(r'C:\\Users\\Prabashwara Randeni\\Desktop\\Data Analytics\\UK Data Science Job & Salary Analytics\\1_CSV Load\\Raw_Dataset.csv')"
   ]
  },
  {
   "cell_type": "code",
   "execution_count": 69,
   "metadata": {},
   "outputs": [
    {
     "name": "stdout",
     "output_type": "stream",
     "text": [
      "<class 'pandas.core.frame.DataFrame'>\n",
      "RangeIndex: 750 entries, 0 to 749\n",
      "Data columns (total 7 columns):\n",
      " #   Column         Non-Null Count  Dtype  \n",
      "---  ------         --------------  -----  \n",
      " 0   Company        750 non-null    object \n",
      " 1   Company Score  697 non-null    float64\n",
      " 2   Job Title      750 non-null    object \n",
      " 3   Location       750 non-null    object \n",
      " 4   Date           750 non-null    object \n",
      " 5   Salary         635 non-null    object \n",
      " 6   Skills         742 non-null    object \n",
      "dtypes: float64(1), object(6)\n",
      "memory usage: 41.1+ KB\n"
     ]
    }
   ],
   "source": [
    "# inspec data\n",
    "df.info()"
   ]
  },
  {
   "cell_type": "code",
   "execution_count": 70,
   "metadata": {},
   "outputs": [
    {
     "data": {
      "text/plain": [
       "Company          0\n",
       "Company Score    0\n",
       "Job Title        0\n",
       "Location         0\n",
       "Date             0\n",
       "Salary           0\n",
       "Skills           0\n",
       "dtype: int64"
      ]
     },
     "execution_count": 70,
     "metadata": {},
     "output_type": "execute_result"
    }
   ],
   "source": [
    "#Drop Nan values\n",
    "df=df.dropna()\n",
    "\n",
    "df.isnull().sum()"
   ]
  },
  {
   "cell_type": "markdown",
   "metadata": {},
   "source": [
    "Salary"
   ]
  },
  {
   "cell_type": "code",
   "execution_count": 71,
   "metadata": {},
   "outputs": [],
   "source": [
    "#converting salary column to string type\n",
    "df['Salary']=df['Salary'].astype('string')\n",
    "\n",
    "#split estimation type and salary\n",
    "def est(n):\n",
    "    if 'Employer est.' in n:\n",
    "        return 'Employer est.'\n",
    "    return 'Glassdoor est.' \n",
    "    \n",
    "df['Estimation Type']=df['Salary'].apply(est)\n",
    "\n",
    "\n",
    "#remove unwanted items in salary column\n",
    "breaker=('K','£','Employer est.','Glassdoor est.')\n",
    "\n",
    "def b_down(n):\n",
    "    for word in breaker:\n",
    "        n = n.replace(word, '')\n",
    "    \n",
    "    n = n.replace('\\xa0', '').replace('FCFA','').strip()\n",
    "    n = n.replace('(','').replace(')','').replace(',','').strip()\n",
    "\n",
    "    return n\n",
    "\n",
    "df['Salary'] = df['Salary'].apply(b_down)\n",
    "\n",
    "#getting annual salary rates\n",
    "def salary_adjester(n):\n",
    "    if \"Per Hour\" in n:\n",
    "        n = n.replace('Per Hour','').strip()\n",
    "\n",
    "        if \"-\" not in n:\n",
    "\n",
    "            try:\n",
    "                return float(n) * 40 * 52\n",
    "            except ValueError:\n",
    "                return None\n",
    "        else:\n",
    "            n = n.replace('-','').strip()\n",
    "            try:\n",
    "                min_salary,max_salary = map(float, n.split())\n",
    "                mean_salary = (min_salary + max_salary) / 2\n",
    "                return mean_salary * 40 * 52\n",
    "            except ValueError:\n",
    "                return None\n",
    "    elif '-' in n:\n",
    "        n = n.replace('-','').strip()\n",
    "        try:\n",
    "            min_salary, max_salary = map(float, n.split())\n",
    "            mean_salary = ((min_salary + max_salary) / 2)*1000\n",
    "            return mean_salary\n",
    "        except ValueError:\n",
    "            return None\n",
    "    else:\n",
    "        return float(n)*1000\n",
    "\n",
    "\n",
    "df['Salary']=df['Salary'].apply(salary_adjester)"
   ]
  },
  {
   "cell_type": "markdown",
   "metadata": {},
   "source": [
    "Date"
   ]
  },
  {
   "cell_type": "code",
   "execution_count": 72,
   "metadata": {},
   "outputs": [],
   "source": [
    "#setup date\n",
    "def cleaner(n):\n",
    "    if 'd' in n:\n",
    "        n = n.replace('d', '')\n",
    "        if '+' in n:\n",
    "            n = n.replace('+', '')\n",
    "            return n\n",
    "    else:\n",
    "        n = n.replace('h', '1')\n",
    "        return n\n",
    "    return n\n",
    "\n",
    "df['Date'] = df['Date'].apply(cleaner)\n",
    "\n",
    "\n",
    "#apply random numbers to data like 30+\n",
    "np.random.seed(1907)\n",
    "\n",
    "random_picker = []\n",
    "\n",
    "for i in range(30,45):\n",
    "    random_picker.append(i)\n",
    "\n",
    "\n",
    "def random_assigner(z):\n",
    "    if z >=27:\n",
    "        return np.random.choice(random_picker)\n",
    "    else:\n",
    "        return z\n",
    "\n",
    "df['Date']=df['Date'].astype('int')\n",
    "\n",
    "df['Date']=df['Date'].apply(random_assigner)\n",
    "\n"
   ]
  },
  {
   "cell_type": "markdown",
   "metadata": {},
   "source": [
    "Location"
   ]
  },
  {
   "cell_type": "code",
   "execution_count": 73,
   "metadata": {},
   "outputs": [],
   "source": [
    "#reassign City names\n",
    "df['Location']=df['Location'].replace('Barking, East of England, England','London,England')\n",
    "df['Location']=df['Location'].replace('Bury, North West England, England','Manchester,England')\n",
    "df['Location']=df['Location'].replace('Cambridge, East of England, England','Cambridge,England')\n",
    "df['Location']=df['Location'].replace('Darlington, North East England, England','Durham,England')\n",
    "df['Location']=df['Location'].replace('Harwell, South East England, England','Oxford,England')\n",
    "df['Location']=df['Location'].replace('Hatfield, East of England, England','Welwyn Hatfield,England')\n",
    "df['Location']=df['Location'].replace('Llanishen, Monmouthshire, Wales','Cardiff,England')\n",
    "df['Location']=df['Location'].replace('Luton, East of England, England','Bedfordshire,England')\n",
    "df['Location']=df['Location'].replace('Preston, North West England, England','Lancashire, England')\n",
    "df['Location']=df['Location'].replace('Slough, Berkshire, South East England, England','Berkshire, England')\n",
    "df['Location']=df['Location'].replace('Swindon, Wiltshire, South West England, England','Wiltshire,England')\n",
    "df['Location']=df['Location'].replace('Warwick, West Midlands, England','Warwickshire, England')\n",
    "df['Location']=df['Location'].replace('Wellington, Herefordshire, West Midlands, England','Somerset, England')\n",
    "\n",
    "#remove Remote from location and make new coloumn\n",
    "\n",
    "def job_type(n):\n",
    "    if 'Remote' in n:\n",
    "        return 'Remote'\n",
    "    else:\n",
    "        return 'OnSite'\n",
    "    \n",
    "df['Job Type']=df['Location'].apply(job_type)\n",
    "\n",
    "#split location to city and country\n",
    "\n",
    "def extract_location(location):\n",
    "    if 'Remote' not in location and 'United Kingdom' not in location:\n",
    "        parts = location.split(\",\", 1)\n",
    "        if len(parts) == 2:\n",
    "            city = parts[0].strip()\n",
    "            country = parts[1].strip()\n",
    "            return city, country\n",
    "        else:\n",
    "            return None\n",
    "    return None\n",
    "\n",
    "df[['City', 'Country']] = df['Location'].apply(lambda loc: pd.Series(extract_location(loc)))\n",
    "\n",
    "#drop location column\n",
    "df.drop('Location',axis=1,inplace=True)"
   ]
  },
  {
   "cell_type": "code",
   "execution_count": 74,
   "metadata": {},
   "outputs": [],
   "source": [
    "#export cleaned data\n",
    "\n",
    "df.to_csv('Cleaned_Data.CSV',index=False)"
   ]
  }
 ],
 "metadata": {
  "kernelspec": {
   "display_name": "Python 3",
   "language": "python",
   "name": "python3"
  },
  "language_info": {
   "codemirror_mode": {
    "name": "ipython",
    "version": 3
   },
   "file_extension": ".py",
   "mimetype": "text/x-python",
   "name": "python",
   "nbconvert_exporter": "python",
   "pygments_lexer": "ipython3",
   "version": "3.12.6"
  }
 },
 "nbformat": 4,
 "nbformat_minor": 2
}
